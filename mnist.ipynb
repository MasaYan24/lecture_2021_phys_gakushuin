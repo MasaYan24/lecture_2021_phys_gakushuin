{
  "nbformat": 4,
  "nbformat_minor": 0,
  "metadata": {
    "colab": {
      "name": "mnist.ipynb",
      "private_outputs": true,
      "provenance": [],
      "authorship_tag": "ABX9TyMOpNf2fELeZKBbG/JQhWak",
      "include_colab_link": true
    },
    "kernelspec": {
      "name": "python3",
      "display_name": "Python 3"
    },
    "language_info": {
      "name": "python"
    }
  },
  "cells": [
    {
      "cell_type": "markdown",
      "metadata": {
        "id": "view-in-github",
        "colab_type": "text"
      },
      "source": [
        "<a href=\"https://colab.research.google.com/github/MasaYan24/lecture_2021_phys_gakushuin/blob/main/mnist.ipynb\" target=\"_parent\"><img src=\"https://colab.research.google.com/assets/colab-badge.svg\" alt=\"Open In Colab\"/></a>"
      ]
    },
    {
      "cell_type": "markdown",
      "metadata": {
        "id": "LnhCkpkWU2xo"
      },
      "source": [
        "# MNIST demo\n",
        "\n",
        "荒い一桁の手書き数字を 0-9 に分類するタスクです。\n",
        "\n",
        "MNIST: Modified National Institute of Standards and Technology databas"
      ]
    },
    {
      "cell_type": "markdown",
      "metadata": {
        "id": "RGyRAW01D4ck"
      },
      "source": [
        "ライブラリを読み込む設定 (必ず最初に実行)"
      ]
    },
    {
      "cell_type": "code",
      "metadata": {
        "id": "TOJ635W2BixE"
      },
      "source": [
        "from typing import List\n",
        "\n",
        "import matplotlib.pyplot as plt\n",
        "import torch\n",
        "from sklearn import datasets\n",
        "from sklearn.model_selection import train_test_split\n",
        "from torch import nn, optim"
      ],
      "execution_count": null,
      "outputs": []
    },
    {
      "cell_type": "markdown",
      "metadata": {
        "id": "SUMXfxUTENb6"
      },
      "source": [
        "データの読み込みと確認"
      ]
    },
    {
      "cell_type": "code",
      "metadata": {
        "id": "ybhIZOJsEH6V"
      },
      "source": [
        "digits_data = datasets.load_digits()\n",
        "print(f\"data type={type(digits_data)}\")  # データタイプ表示\n",
        "print(f\"elements={dir(digits_data)}\")  # 構成要素表示 ['DESCR', 'data', 'images', 'target', 'target_names']\n",
        "print(f\"DESCR={digits_data.DESCR}\")  # データの内容についての概要\n",
        "print(f\"data.shape={digits_data.data.shape}\")  # data の形式表示 (1797, 64): 8x8=64 のサイズのデータが 1797 個\n",
        "print(f\"data[0]={digits_data.data[0].reshape(8,8)}\")  # 最初のデータ ゼロの位置に数値がある。\n",
        "print(f\"images.shape={digits_data.images.shape}\")  # images の形式表示 (1797, 8, 8): 8x8 のサイズのデータが 1797 個\n",
        "print(f\"images[0]={digits_data.images[0]}\")  # 最初のデータ ゼロの位置に数値がある。data と images の違いは形が 1D か 2D か\n",
        "print(f\"target.shape={digits_data.target.shape}\")  # target の形状\n",
        "print(f\"target[0-50]={[i for i in digits_data.target[0:50]]}\")  # target は画像がそれぞれ何に対応しているかを示している。ランダムな並びのようだ。\n",
        "print(f\"target_names={digits_data.target_names}\")  # データセットに含まれる種類。0-9 の 10 種類。\n",
        "\n",
        "# 最初の 10 個を画像で表示\n",
        "n_img = 10\n",
        "plt.figure(figsize=(10, 4))\n",
        "for i in range(n_img):\n",
        "   ax = plt.subplot(2, 5, i + 1)\n",
        "   plt.imshow(digits_data.images[i], cmap=\"Greys_r\")\n",
        "   # plt.imshow(digits_data.data[i].reshape(8, 8), cmap=\"Greys_r\")  # 上と同じこと\n",
        "   ax.get_xaxis().set_visible(False)\n",
        "   ax.get_yaxis().set_visible(False)\n",
        "plt.show()"
      ],
      "execution_count": null,
      "outputs": []
    },
    {
      "cell_type": "markdown",
      "metadata": {
        "id": "j5AvgUBXETjB"
      },
      "source": [
        "学習用と検証用にデータ分割を行う。"
      ]
    },
    {
      "cell_type": "code",
      "metadata": {
        "id": "0xjcn7I2ESkF"
      },
      "source": [
        "digit_1D_images = digits_data.data\n",
        "labels = digits_data.target\n",
        "x_train, x_test, t_train, t_test = train_test_split(digit_1D_images, labels, random_state=0)  # random_state を変更すると分割が変わる\n",
        "\n",
        "x_train = torch.tensor(x_train, dtype=torch.float32)  # 学習データ\n",
        "t_train = torch.tensor(t_train, dtype=torch.int64)  # 学習データの答え t: target\n",
        "x_test = torch.tensor(x_test, dtype=torch.float32)  # 検証データ\n",
        "t_test = torch.tensor(t_test, dtype=torch.int64)  # 検証データの答え\n",
        "print(f\"x_train.shape, t_train.shape, x_test.shape, t_test.shape={x_train.shape}, {t_train.shape}, {x_test.shape}, {t_test.shape}\")"
      ],
      "execution_count": null,
      "outputs": []
    },
    {
      "cell_type": "markdown",
      "metadata": {
        "id": "sgSUygiKLRhO"
      },
      "source": [
        "ニューラルネットワーク (net)、ロス関数 (loss_func)、Optimizer (optimizer) の設定。"
      ]
    },
    {
      "cell_type": "code",
      "metadata": {
        "id": "Rk_9BqDnL4SH"
      },
      "source": [
        "# ネットワークの形: 64 (入力) → 32 → 16 → 10 (出力) の前結合ネットワーク\n",
        "net = nn.Sequential(\n",
        "    nn.Linear(64, 32),\n",
        "    nn.ReLU(),\n",
        "    nn.Linear(32, 16),\n",
        "    nn.ReLU(),\n",
        "    nn.Linear(16, 10),\n",
        ")\n",
        "print(net)\n",
        "\n",
        "loss_fnc = nn.CrossEntropyLoss()\n",
        "\n",
        "optimizer = optim.SGD(net.parameters(), lr=0.01)  # 確率的勾配効果法"
      ],
      "execution_count": null,
      "outputs": []
    },
    {
      "cell_type": "markdown",
      "metadata": {
        "id": "DHGFlChCMEuA"
      },
      "source": [
        "学習実行"
      ]
    },
    {
      "cell_type": "code",
      "metadata": {
        "id": "9GCFPhryU2LI"
      },
      "source": [
        "record_loss_train: List[float] = []  # 逐次ロスの格納場所\n",
        "record_loss_test: List[float] = []\n",
        "\n",
        "epochs = 1000\n",
        "for i in range(epochs):\n",
        "    optimizer.zero_grad()  # 勾配の初期化\n",
        "\n",
        "    y_train = net(x_train)  # 現状のモデルで学習データをを推論\n",
        "    y_test = net(x_test)  # 現状のモデルで検証データを推論\n",
        "\n",
        "    loss_train = loss_fnc(y_train, t_train)  # ロス関数の計算\n",
        "    loss_test = loss_fnc(y_test, t_test)\n",
        "    record_loss_train.append(loss_train.item())  # 現状のロスを格納\n",
        "    record_loss_test.append(loss_test.item())\n",
        "\n",
        "    loss_train.backward()  # 誤差逆伝播を実行\n",
        "\n",
        "    optimizer.step()  # 誤差逆伝播の結果を使って weight と bias を更新\n",
        "\n",
        "    if i % 100 == 0:  # 100 ステップごとに途中結果を出力\n",
        "        print(f\"Epoch: {i}, Loss_Train: {loss_train}, Loss_Test: {loss_test}\")"
      ],
      "execution_count": null,
      "outputs": []
    },
    {
      "cell_type": "markdown",
      "metadata": {
        "id": "cCGqiyYKPXoo"
      },
      "source": [
        "結果をグラフで表示"
      ]
    },
    {
      "cell_type": "code",
      "metadata": {
        "id": "lzk14mahPBJe"
      },
      "source": [
        "fig = plt.figure()\n",
        "ax = fig.add_subplot(111)\n",
        "ax.plot(range(len(record_loss_train)), record_loss_train, label=\"Train\")\n",
        "ax.plot(range(len(record_loss_test)), record_loss_test, label=\"Test\")\n",
        "ax.legend()\n",
        "\n",
        "ax.set_xlabel(\"Epochs\")\n",
        "ax.set_ylabel(\"Loss\")\n",
        "plt.show()"
      ],
      "execution_count": null,
      "outputs": []
    },
    {
      "cell_type": "markdown",
      "metadata": {
        "id": "iGcVzTpNQgvG"
      },
      "source": [
        "正解率を計算"
      ]
    },
    {
      "cell_type": "code",
      "metadata": {
        "id": "MGtWF4i2QewI"
      },
      "source": [
        "y_test = net(x_test)\n",
        "count = (y_test.argmax(1) == t_test).sum().item()\n",
        "print(f\"correct rate: {count/len(y_test)*100:.2f}%\")"
      ],
      "execution_count": null,
      "outputs": []
    },
    {
      "cell_type": "markdown",
      "metadata": {
        "id": "5IU8RV0ERX1j"
      },
      "source": [
        "テスト画像について選んで推論を実行"
      ]
    },
    {
      "cell_type": "code",
      "metadata": {
        "id": "Ub7DGf5BTyZc"
      },
      "source": [
        "img_ids = [0, 1, 2]  # 何番目のイメージを使うかここで指定\n",
        "\n",
        "fig, axes = plt.subplots(1, len(img_ids))\n",
        "axes = axes if len(img_ids) != 1 else [axes]\n",
        "for ith, ax in enumerate(axes):\n",
        "    ax.imshow(x_test[img_ids[ith]].reshape(8, 8), cmap=\"Greys_r\")\n",
        "    pred = net(x_test[img_ids[ith]]).argmax().item()\n",
        "    ax.set_title(f\"pred:{pred}, ans:{t_test[img_ids[ith]]}\")"
      ],
      "execution_count": null,
      "outputs": []
    }
  ]
}